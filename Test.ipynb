{
 "cells": [
  {
   "cell_type": "code",
   "execution_count": 4,
   "metadata": {},
   "outputs": [
    {
     "name": "stdout",
     "output_type": "stream",
     "text": [
      "a :  Row(age=22, name='nouradine')\n"
     ]
    }
   ],
   "source": [
    "from pyspark.sql import Row\n",
    "a = Row(name='nouradine', age=22)\n",
    "print(\"a : \", a)"
   ]
  },
  {
   "cell_type": "code",
   "execution_count": 5,
   "metadata": {},
   "outputs": [
    {
     "data": {
      "text/html": [
       "\n",
       "        <div>\n",
       "            <p><b>SparkContext</b></p>\n",
       "\n",
       "            <p><a href=\"http://10.0.2.15:4040\">Spark UI</a></p>\n",
       "\n",
       "            <dl>\n",
       "              <dt>Version</dt>\n",
       "                <dd><code>v2.2.0</code></dd>\n",
       "              <dt>Master</dt>\n",
       "                <dd><code>local[*]</code></dd>\n",
       "              <dt>AppName</dt>\n",
       "                <dd><code>PySparkShell</code></dd>\n",
       "            </dl>\n",
       "        </div>\n",
       "        "
      ],
      "text/plain": [
       "<SparkContext master=local[*] appName=PySparkShell>"
      ]
     },
     "execution_count": 5,
     "metadata": {},
     "output_type": "execute_result"
    }
   ],
   "source": [
    "from pyspark import SparkContext, SparkConf\n",
    "sc = SparkContext.getOrCreate()\n",
    "sc"
   ]
  },
  {
   "cell_type": "code",
   "execution_count": 7,
   "metadata": {},
   "outputs": [
    {
     "name": "stdout",
     "output_type": "stream",
     "text": [
      "+---+---------+\n",
      "|age|     name|\n",
      "+---+---------+\n",
      "| 22|nouradine|\n",
      "| 22|     ismo|\n",
      "| 24|   souber|\n",
      "| 22|     elmi|\n",
      "| 23|     tata|\n",
      "+---+---------+\n",
      "\n"
     ]
    }
   ],
   "source": [
    "from pyspark.sql import Row\n",
    "df = sc.parallelize([\\\n",
    "                   Row(name='nouradine', age=22),\\\n",
    "                   Row(name='ismo', age=22),\\\n",
    "                   Row(name='souber', age=24),\\\n",
    "                   Row(name='elmi', age=22),\\\n",
    "                   Row(name='tata', age=23)]).toDF()\n",
    "df.show()"
   ]
  },
  {
   "cell_type": "code",
   "execution_count": 11,
   "metadata": {},
   "outputs": [
    {
     "name": "stdout",
     "output_type": "stream",
     "text": [
      "PYSPARK_DRIVER_PYTHON    = anaconda3/bin/jupyter\n",
      "PYSPARK_DRIVER_PYTHON_OPTS= notebook\n",
      "PYSPARK_PYTHON           = anaconda3/bin/python\n",
      "PYSPARK_SUBMIT_ARGS      = \"--name\" \"PySparkShell\" \"pyspark-shell\"\n",
      "SPARK_ENV_LOADED         = 1\n",
      "SPARK_HOME               = <home>/spark-2.2.0-bin-hadoop2.7\n",
      "SPARK_SCALA_VERSION      = 2.10\n",
      "_SPARK_CMD_USAGE         = Usage: ./bin/pyspark [options]\n"
     ]
    }
   ],
   "source": [
    "import os\n",
    "for o, v in sorted(os.environ.items()):\n",
    "    if \"SPARK\" in o.upper():\n",
    "        print(\"{0:25}= {1}\".format(o, v.replace(os.environ[\"HOME\"], \"<home>\")))"
   ]
  },
  {
   "cell_type": "code",
   "execution_count": null,
   "metadata": {
    "collapsed": true
   },
   "outputs": [],
   "source": []
  }
 ],
 "metadata": {
  "kernelspec": {
   "display_name": "Python 3",
   "language": "python",
   "name": "python3"
  },
  "language_info": {
   "codemirror_mode": {
    "name": "ipython",
    "version": 3
   },
   "file_extension": ".py",
   "mimetype": "text/x-python",
   "name": "python",
   "nbconvert_exporter": "python",
   "pygments_lexer": "ipython3",
   "version": "3.6.1"
  }
 },
 "nbformat": 4,
 "nbformat_minor": 2
}
